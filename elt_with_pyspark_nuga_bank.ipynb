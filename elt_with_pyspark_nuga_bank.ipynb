{
 "cells": [
  {
   "cell_type": "markdown",
   "metadata": {},
   "source": [
    "## Import Necessary Dependancies"
   ]
  },
  {
   "cell_type": "code",
   "execution_count": 1,
   "metadata": {},
   "outputs": [],
   "source": [
    "from pyspark.sql import SparkSession\n",
    "from pyspark.sql.functions import monotonically_increasing_id\n",
    "import pandas as pd\n",
    "from sqlalchemy import create_engine"
   ]
  },
  {
   "cell_type": "code",
   "execution_count": 2,
   "metadata": {},
   "outputs": [
    {
     "name": "stderr",
     "output_type": "stream",
     "text": [
      "Setting default log level to \"WARN\".\n",
      "To adjust logging level use sc.setLogLevel(newLevel). For SparkR, use setLogLevel(newLevel).\n",
      "24/07/18 18:07:54 WARN NativeCodeLoader: Unable to load native-hadoop library for your platform... using builtin-java classes where applicable\n"
     ]
    }
   ],
   "source": [
    "# initialize Spark Session\n",
    "spark = SparkSession.builder.appName('NugaBankETL').getOrCreate()"
   ]
  },
  {
   "cell_type": "code",
   "execution_count": 3,
   "metadata": {},
   "outputs": [
    {
     "data": {
      "text/html": [
       "\n",
       "            <div>\n",
       "                <p><b>SparkSession - in-memory</b></p>\n",
       "                \n",
       "        <div>\n",
       "            <p><b>SparkContext</b></p>\n",
       "\n",
       "            <p><a href=\"http://henrys-air.broadband:4040\">Spark UI</a></p>\n",
       "\n",
       "            <dl>\n",
       "              <dt>Version</dt>\n",
       "                <dd><code>v3.5.1</code></dd>\n",
       "              <dt>Master</dt>\n",
       "                <dd><code>local[*]</code></dd>\n",
       "              <dt>AppName</dt>\n",
       "                <dd><code>NugaBankETL</code></dd>\n",
       "            </dl>\n",
       "        </div>\n",
       "        \n",
       "            </div>\n",
       "        "
      ],
      "text/plain": [
       "<pyspark.sql.session.SparkSession at 0x7fd568c79880>"
      ]
     },
     "execution_count": 3,
     "metadata": {},
     "output_type": "execute_result"
    }
   ],
   "source": [
    "spark ## checkiong my spark engine and information"
   ]
  },
  {
   "cell_type": "markdown",
   "metadata": {},
   "source": [
    "## Data Extraction"
   ]
  },
  {
   "cell_type": "code",
   "execution_count": 4,
   "metadata": {},
   "outputs": [
    {
     "name": "stderr",
     "output_type": "stream",
     "text": [
      "                                                                                \r"
     ]
    }
   ],
   "source": [
    "# Data Extraction\n",
    "nuga_bank_df = spark.read.csv(r'dataset/nuga_bank_transactions.csv', header=True, inferSchema=True)"
   ]
  },
  {
   "cell_type": "code",
   "execution_count": 5,
   "metadata": {},
   "outputs": [
    {
     "name": "stderr",
     "output_type": "stream",
     "text": [
      "                                                                                \r"
     ]
    },
    {
     "name": "stdout",
     "output_type": "stream",
     "text": [
      "+--------------------+------+----------------+--------------+--------------------+------------------+--------------+--------------------+--------------------+--------------------+--------------------+-------------------+------------------+--------------------+-------------+-------------+--------+-----+---------+--------------------+--------------------+------+--------------+\n",
      "|    Transaction_Date|Amount|Transaction_Type| Customer_Name|    Customer_Address|     Customer_City|Customer_State|    Customer_Country|             Company|           Job_Title|               Email|       Phone_Number|Credit_Card_Number|                IBAN|Currency_Code|Random_Number|Category|Group|Is_Active|        Last_Updated|         Description|Gender|Marital_Status|\n",
      "+--------------------+------+----------------+--------------+--------------------+------------------+--------------+--------------------+--------------------+--------------------+--------------------+-------------------+------------------+--------------------+-------------+-------------+--------+-----+---------+--------------------+--------------------+------+--------------+\n",
      "|2024-03-23 15:38:...| 34.76|      Withdrawal|    James Neal|54912 Holmes Lodg...| West Keithborough|       Florida|                Togo|Benson, Johnson a...|                NULL|                NULL|  493.720.6609x7545|  3592901394693441|GB98RBPP090285271...|          MAD|       3167.0|       C|    Z|       No|2020-06-20 03:04:...|Yeah food anythin...| Other|      Divorced|\n",
      "|2024-04-22 19:15:...|163.92|      Withdrawal|   Thomas Long| 1133 Collin Passage|        Joshuabury|   Connecticut|Lao People's Demo...|                NULL|   Food technologist|michellelynch@exa...|      (497)554-3317|              NULL|GB03KFZR339662263...|          VEF|       2122.0|       B|    Z|     NULL|2020-12-27 13:23:...|Teach edge make n...|Female|       Married|\n",
      "|2024-04-12 19:46:...|386.32|      Withdrawal|Ashley Shelton|5297 Johnson Port...|       North Maria|    New Jersey|              Bhutan|       Jones-Mueller|Database administ...| ljordan@example.org|      (534)769-3072|      675983949974|GB59QYRN446730519...|          COP|       7796.0|       C|    Z|       No|2020-01-24 01:23:...|Again line face c...| Other|          NULL|\n",
      "|2024-04-17 15:29:...|407.15|         Deposit| James Rosario|56955 Moore Glens...|North Michellefurt|    New Mexico|             Iceland|       Vargas-Harris|Horticultural the...|parkerjames@examp...|+1-447-900-1320x257|     4761202519057|GB74FTDO268299438...|          BWP|       6284.0|       C|    Z|      Yes|2023-09-27 03:01:...|     Bag my a drive.|  NULL|          NULL|\n",
      "|2024-02-10 01:51:...|161.31|         Deposit|Miguel Leonard|262 Beck Expressw...|              NULL| West Virginia|             Eritrea|Richardson, Gonza...|   Minerals surveyor| zweaver@example.net|               NULL|   213156729655186|GB94EWRN587847592...|          SOS|       9179.0|       C|    Y|       No|2022-01-22 19:08:...|Husband find ok w...|Female|       Married|\n",
      "+--------------------+------+----------------+--------------+--------------------+------------------+--------------+--------------------+--------------------+--------------------+--------------------+-------------------+------------------+--------------------+-------------+-------------+--------+-----+---------+--------------------+--------------------+------+--------------+\n",
      "only showing top 5 rows\n",
      "\n"
     ]
    }
   ],
   "source": [
    "nuga_bank_df.show(5)"
   ]
  },
  {
   "cell_type": "code",
   "execution_count": 6,
   "metadata": {},
   "outputs": [
    {
     "name": "stdout",
     "output_type": "stream",
     "text": [
      "root\n",
      " |-- Transaction_Date: timestamp (nullable = true)\n",
      " |-- Amount: double (nullable = true)\n",
      " |-- Transaction_Type: string (nullable = true)\n",
      " |-- Customer_Name: string (nullable = true)\n",
      " |-- Customer_Address: string (nullable = true)\n",
      " |-- Customer_City: string (nullable = true)\n",
      " |-- Customer_State: string (nullable = true)\n",
      " |-- Customer_Country: string (nullable = true)\n",
      " |-- Company: string (nullable = true)\n",
      " |-- Job_Title: string (nullable = true)\n",
      " |-- Email: string (nullable = true)\n",
      " |-- Phone_Number: string (nullable = true)\n",
      " |-- Credit_Card_Number: long (nullable = true)\n",
      " |-- IBAN: string (nullable = true)\n",
      " |-- Currency_Code: string (nullable = true)\n",
      " |-- Random_Number: double (nullable = true)\n",
      " |-- Category: string (nullable = true)\n",
      " |-- Group: string (nullable = true)\n",
      " |-- Is_Active: string (nullable = true)\n",
      " |-- Last_Updated: timestamp (nullable = true)\n",
      " |-- Description: string (nullable = true)\n",
      " |-- Gender: string (nullable = true)\n",
      " |-- Marital_Status: string (nullable = true)\n",
      "\n"
     ]
    }
   ],
   "source": [
    "nuga_bank_df.printSchema()"
   ]
  },
  {
   "cell_type": "markdown",
   "metadata": {},
   "source": [
    "## Data Transformation with Pyspark"
   ]
  },
  {
   "cell_type": "code",
   "execution_count": 7,
   "metadata": {},
   "outputs": [
    {
     "data": {
      "text/plain": [
       "['Transaction_Date',\n",
       " 'Amount',\n",
       " 'Transaction_Type',\n",
       " 'Customer_Name',\n",
       " 'Customer_Address',\n",
       " 'Customer_City',\n",
       " 'Customer_State',\n",
       " 'Customer_Country',\n",
       " 'Company',\n",
       " 'Job_Title',\n",
       " 'Email',\n",
       " 'Phone_Number',\n",
       " 'Credit_Card_Number',\n",
       " 'IBAN',\n",
       " 'Currency_Code',\n",
       " 'Random_Number',\n",
       " 'Category',\n",
       " 'Group',\n",
       " 'Is_Active',\n",
       " 'Last_Updated',\n",
       " 'Description',\n",
       " 'Gender',\n",
       " 'Marital_Status']"
      ]
     },
     "execution_count": 7,
     "metadata": {},
     "output_type": "execute_result"
    }
   ],
   "source": [
    "nuga_bank_df.columns"
   ]
  },
  {
   "cell_type": "code",
   "execution_count": 8,
   "metadata": {},
   "outputs": [
    {
     "name": "stderr",
     "output_type": "stream",
     "text": [
      "                                                                                \r"
     ]
    },
    {
     "data": {
      "text/plain": [
       "1000000"
      ]
     },
     "execution_count": 8,
     "metadata": {},
     "output_type": "execute_result"
    }
   ],
   "source": [
    "# number of rows\n",
    "num_rows = nuga_bank_df.count()\n",
    "num_rows"
   ]
  },
  {
   "cell_type": "code",
   "execution_count": 9,
   "metadata": {},
   "outputs": [
    {
     "data": {
      "text/plain": [
       "23"
      ]
     },
     "execution_count": 9,
     "metadata": {},
     "output_type": "execute_result"
    }
   ],
   "source": [
    "# number of columns\n",
    "num_columns = len(nuga_bank_df.columns)\n",
    "num_columns"
   ]
  },
  {
   "cell_type": "code",
   "execution_count": 10,
   "metadata": {},
   "outputs": [
    {
     "name": "stderr",
     "output_type": "stream",
     "text": [
      "                                                                                \r"
     ]
    },
    {
     "name": "stdout",
     "output_type": "stream",
     "text": [
      "Transaction_Date Nulls 0\n"
     ]
    },
    {
     "name": "stderr",
     "output_type": "stream",
     "text": [
      "                                                                                \r"
     ]
    },
    {
     "name": "stdout",
     "output_type": "stream",
     "text": [
      "Amount Nulls 0\n"
     ]
    },
    {
     "name": "stderr",
     "output_type": "stream",
     "text": [
      "                                                                                \r"
     ]
    },
    {
     "name": "stdout",
     "output_type": "stream",
     "text": [
      "Transaction_Type Nulls 0\n"
     ]
    },
    {
     "name": "stderr",
     "output_type": "stream",
     "text": [
      "                                                                                \r"
     ]
    },
    {
     "name": "stdout",
     "output_type": "stream",
     "text": [
      "Customer_Name Nulls 100425\n"
     ]
    },
    {
     "name": "stderr",
     "output_type": "stream",
     "text": [
      "                                                                                \r"
     ]
    },
    {
     "name": "stdout",
     "output_type": "stream",
     "text": [
      "Customer_Address Nulls 100087\n"
     ]
    },
    {
     "name": "stderr",
     "output_type": "stream",
     "text": [
      "                                                                                \r"
     ]
    },
    {
     "name": "stdout",
     "output_type": "stream",
     "text": [
      "Customer_City Nulls 100034\n"
     ]
    },
    {
     "name": "stderr",
     "output_type": "stream",
     "text": [
      "                                                                                \r"
     ]
    },
    {
     "name": "stdout",
     "output_type": "stream",
     "text": [
      "Customer_State Nulls 100009\n"
     ]
    },
    {
     "name": "stderr",
     "output_type": "stream",
     "text": [
      "                                                                                \r"
     ]
    },
    {
     "name": "stdout",
     "output_type": "stream",
     "text": [
      "Customer_Country Nulls 100672\n"
     ]
    },
    {
     "name": "stderr",
     "output_type": "stream",
     "text": [
      "                                                                                \r"
     ]
    },
    {
     "name": "stdout",
     "output_type": "stream",
     "text": [
      "Company Nulls 100295\n"
     ]
    },
    {
     "name": "stderr",
     "output_type": "stream",
     "text": [
      "                                                                                \r"
     ]
    },
    {
     "name": "stdout",
     "output_type": "stream",
     "text": [
      "Job_Title Nulls 99924\n"
     ]
    },
    {
     "name": "stderr",
     "output_type": "stream",
     "text": [
      "                                                                                \r"
     ]
    },
    {
     "name": "stdout",
     "output_type": "stream",
     "text": [
      "Email Nulls 100043\n"
     ]
    },
    {
     "name": "stderr",
     "output_type": "stream",
     "text": [
      "                                                                                \r"
     ]
    },
    {
     "name": "stdout",
     "output_type": "stream",
     "text": [
      "Phone_Number Nulls 100524\n"
     ]
    },
    {
     "name": "stderr",
     "output_type": "stream",
     "text": [
      "                                                                                \r"
     ]
    },
    {
     "name": "stdout",
     "output_type": "stream",
     "text": [
      "Credit_Card_Number Nulls 100085\n"
     ]
    },
    {
     "name": "stderr",
     "output_type": "stream",
     "text": [
      "                                                                                \r"
     ]
    },
    {
     "name": "stdout",
     "output_type": "stream",
     "text": [
      "IBAN Nulls 100300\n"
     ]
    },
    {
     "name": "stderr",
     "output_type": "stream",
     "text": [
      "                                                                                \r"
     ]
    },
    {
     "name": "stdout",
     "output_type": "stream",
     "text": [
      "Currency_Code Nulls 99342\n"
     ]
    },
    {
     "name": "stderr",
     "output_type": "stream",
     "text": [
      "                                                                                \r"
     ]
    },
    {
     "name": "stdout",
     "output_type": "stream",
     "text": [
      "Random_Number Nulls 99913\n"
     ]
    },
    {
     "name": "stderr",
     "output_type": "stream",
     "text": [
      "                                                                                \r"
     ]
    },
    {
     "name": "stdout",
     "output_type": "stream",
     "text": [
      "Category Nulls 100332\n"
     ]
    },
    {
     "name": "stderr",
     "output_type": "stream",
     "text": [
      "                                                                                \r"
     ]
    },
    {
     "name": "stdout",
     "output_type": "stream",
     "text": [
      "Group Nulls 100209\n"
     ]
    },
    {
     "name": "stderr",
     "output_type": "stream",
     "text": [
      "                                                                                \r"
     ]
    },
    {
     "name": "stdout",
     "output_type": "stream",
     "text": [
      "Is_Active Nulls 100259\n"
     ]
    },
    {
     "name": "stderr",
     "output_type": "stream",
     "text": [
      "                                                                                \r"
     ]
    },
    {
     "name": "stdout",
     "output_type": "stream",
     "text": [
      "Last_Updated Nulls 100321\n"
     ]
    },
    {
     "name": "stderr",
     "output_type": "stream",
     "text": [
      "                                                                                \r"
     ]
    },
    {
     "name": "stdout",
     "output_type": "stream",
     "text": [
      "Description Nulls 100403\n"
     ]
    },
    {
     "name": "stderr",
     "output_type": "stream",
     "text": [
      "                                                                                \r"
     ]
    },
    {
     "name": "stdout",
     "output_type": "stream",
     "text": [
      "Gender Nulls 99767\n"
     ]
    },
    {
     "name": "stderr",
     "output_type": "stream",
     "text": [
      "[Stage 72:>                                                         (0 + 4) / 4]\r"
     ]
    },
    {
     "name": "stdout",
     "output_type": "stream",
     "text": [
      "Marital_Status Nulls 99904\n"
     ]
    },
    {
     "name": "stderr",
     "output_type": "stream",
     "text": [
      "                                                                                \r"
     ]
    }
   ],
   "source": [
    "# checking for null values\n",
    "#checking missing values, null values, filter them out and count them\n",
    "for column in nuga_bank_df.columns:\n",
    "    print(column, 'Nulls', nuga_bank_df.filter(nuga_bank_df[column].isNull()).count())\n"
   ]
  },
  {
   "cell_type": "code",
   "execution_count": 11,
   "metadata": {},
   "outputs": [],
   "source": [
    "# fillin fup missing values\n",
    "#   I could choose to drop the missing values and null values, but instead i will fill up missing values\n",
    "\n",
    "nuga_bank_df_clean = nuga_bank_df.fillna({\n",
    "    'Customer_Name' : 'Unknown',\n",
    "    'Customer_Address' : 'Unknown',\n",
    "    'Customer_City' : 'Unknown',\n",
    "    'Customer_State' : 'Unknown',\n",
    "    'Customer_Country' : 'Unknown',\n",
    "    'Company' : 'Unknown',\n",
    "    'Job_Title' : 'Unknown',\n",
    "    'Email' : 'Unknown',\n",
    "    'Phone_Number' : 'Unknown',\n",
    "    'Credit_Card_Number' : 0,\n",
    "    'IBAN' : 'Unknown',\n",
    "    'Currency_Code' : 'Unknown',\n",
    "    'Random_Number' : 0.0,\n",
    "    'Category': 'Unknown',\n",
    "    'Group' : 'Unknown',\n",
    "    'Is_Active' : 'Unknown',\n",
    "    'Last_Updated' : 'Unknown',\n",
    "    'Description' : 'Unknown',\n",
    "    'Gender': 'Unknown',\n",
    "    'Marital_Status' : 'Unknown'\n",
    "\n",
    "\n",
    "})"
   ]
  },
  {
   "cell_type": "code",
   "execution_count": 12,
   "metadata": {},
   "outputs": [
    {
     "name": "stderr",
     "output_type": "stream",
     "text": [
      "                                                                                \r"
     ]
    },
    {
     "name": "stdout",
     "output_type": "stream",
     "text": [
      "Transaction_Date Nulls 0\n"
     ]
    },
    {
     "name": "stderr",
     "output_type": "stream",
     "text": [
      "                                                                                \r"
     ]
    },
    {
     "name": "stdout",
     "output_type": "stream",
     "text": [
      "Amount Nulls 0\n"
     ]
    },
    {
     "name": "stderr",
     "output_type": "stream",
     "text": [
      "                                                                                \r"
     ]
    },
    {
     "name": "stdout",
     "output_type": "stream",
     "text": [
      "Transaction_Type Nulls 0\n",
      "Customer_Name Nulls 0\n",
      "Customer_Address Nulls 0\n",
      "Customer_City Nulls 0\n",
      "Customer_State Nulls 0\n",
      "Customer_Country Nulls 0\n",
      "Company Nulls 0\n",
      "Job_Title Nulls 0\n",
      "Email Nulls 0\n",
      "Phone_Number Nulls 0\n",
      "Credit_Card_Number Nulls 0\n",
      "IBAN Nulls 0\n",
      "Currency_Code Nulls 0\n",
      "Random_Number Nulls 0\n",
      "Category Nulls 0\n",
      "Group Nulls 0\n",
      "Is_Active Nulls 0\n"
     ]
    },
    {
     "name": "stderr",
     "output_type": "stream",
     "text": [
      "                                                                                \r"
     ]
    },
    {
     "name": "stdout",
     "output_type": "stream",
     "text": [
      "Last_Updated Nulls 100321\n",
      "Description Nulls 0\n",
      "Gender Nulls 0\n",
      "Marital_Status Nulls 0\n"
     ]
    }
   ],
   "source": [
    "# checking the update for null values again\n",
    "for column in nuga_bank_df_clean.columns:\n",
    "    print(column, 'Nulls', nuga_bank_df_clean.filter(nuga_bank_df_clean[column].isNull()).count())"
   ]
  },
  {
   "cell_type": "code",
   "execution_count": 13,
   "metadata": {},
   "outputs": [],
   "source": [
    "# Drop roles where last_updated is null\n",
    "#  correcting the last updated, i would be dropping the missing value\n",
    "nuga_bank_df_clean = nuga_bank_df_clean.na.drop(subset=['Last_Updated'])\n"
   ]
  },
  {
   "cell_type": "code",
   "execution_count": 14,
   "metadata": {},
   "outputs": [
    {
     "name": "stderr",
     "output_type": "stream",
     "text": [
      "                                                                                \r"
     ]
    },
    {
     "name": "stdout",
     "output_type": "stream",
     "text": [
      "Transaction_Date Nulls 0\n"
     ]
    },
    {
     "name": "stderr",
     "output_type": "stream",
     "text": [
      "                                                                                \r"
     ]
    },
    {
     "name": "stdout",
     "output_type": "stream",
     "text": [
      "Amount Nulls 0\n"
     ]
    },
    {
     "name": "stderr",
     "output_type": "stream",
     "text": [
      "                                                                                \r"
     ]
    },
    {
     "name": "stdout",
     "output_type": "stream",
     "text": [
      "Transaction_Type Nulls 0\n",
      "Customer_Name Nulls 0\n",
      "Customer_Address Nulls 0\n",
      "Customer_City Nulls 0\n",
      "Customer_State Nulls 0\n",
      "Customer_Country Nulls 0\n",
      "Company Nulls 0\n",
      "Job_Title Nulls 0\n",
      "Email Nulls 0\n",
      "Phone_Number Nulls 0\n",
      "Credit_Card_Number Nulls 0\n",
      "IBAN Nulls 0\n",
      "Currency_Code Nulls 0\n",
      "Random_Number Nulls 0\n",
      "Category Nulls 0\n",
      "Group Nulls 0\n",
      "Is_Active Nulls 0\n"
     ]
    },
    {
     "name": "stderr",
     "output_type": "stream",
     "text": [
      "                                                                                \r"
     ]
    },
    {
     "name": "stdout",
     "output_type": "stream",
     "text": [
      "Last_Updated Nulls 0\n",
      "Description Nulls 0\n",
      "Gender Nulls 0\n",
      "Marital_Status Nulls 0\n"
     ]
    }
   ],
   "source": [
    "# confirming\n",
    "for column in nuga_bank_df_clean.columns:\n",
    "    print(column, 'Nulls', nuga_bank_df_clean.filter(nuga_bank_df_clean[column].isNull()).count())"
   ]
  },
  {
   "cell_type": "code",
   "execution_count": 15,
   "metadata": {},
   "outputs": [
    {
     "name": "stderr",
     "output_type": "stream",
     "text": [
      "                                                                                \r"
     ]
    },
    {
     "data": {
      "text/plain": [
       "899679"
      ]
     },
     "execution_count": 15,
     "metadata": {},
     "output_type": "execute_result"
    }
   ],
   "source": [
    "# checking number of rows based on the update\n",
    "\n",
    "num_rows = nuga_bank_df_clean.count()\n",
    "num_rows"
   ]
  },
  {
   "cell_type": "code",
   "execution_count": 16,
   "metadata": {},
   "outputs": [
    {
     "name": "stderr",
     "output_type": "stream",
     "text": [
      "24/07/18 18:10:11 WARN SparkStringUtils: Truncated the string representation of a plan since it was too large. This behavior can be adjusted by setting 'spark.sql.debug.maxToStringFields'.\n",
      "[Stage 180:>                                                        (0 + 1) / 1]\r"
     ]
    },
    {
     "name": "stdout",
     "output_type": "stream",
     "text": [
      "+-------+------------------+----------------+-------------+--------------------+-------------+--------------+----------------+-------------+------------------+-------------------+--------------------+--------------------+--------------------+-------------+-----------------+--------+-------+---------+--------------------+-------+--------------+\n",
      "|summary|            Amount|Transaction_Type|Customer_Name|    Customer_Address|Customer_City|Customer_State|Customer_Country|      Company|         Job_Title|              Email|        Phone_Number|  Credit_Card_Number|                IBAN|Currency_Code|    Random_Number|Category|  Group|Is_Active|         Description| Gender|Marital_Status|\n",
      "+-------+------------------+----------------+-------------+--------------------+-------------+--------------+----------------+-------------+------------------+-------------------+--------------------+--------------------+--------------------+-------------+-----------------+--------+-------+---------+--------------------+-------+--------------+\n",
      "|  count|            899679|          899679|       899679|              899679|       899679|        899679|          899679|       899679|            899679|             899679|              899679|              899679|              899679|       899679|           899679|  899679| 899679|   899679|              899679| 899679|        899679|\n",
      "|   mean|505.10367708927123|            NULL|         NULL|                NULL|         NULL|          NULL|            NULL|         NULL|              NULL|               NULL| 6.002851385999521E9|3.409662226750533...|                NULL|         NULL|4952.920380491264|    NULL|   NULL|     NULL|                NULL|   NULL|          NULL|\n",
      "| stddev| 285.7945343300485|            NULL|         NULL|                NULL|         NULL|          NULL|            NULL|         NULL|              NULL|               NULL|2.3068371038619423E9|1.189655005733000...|                NULL|         NULL|2966.543401151591|    NULL|   NULL|     NULL|                NULL|   NULL|          NULL|\n",
      "|    min|              10.0|         Deposit| Aaron Abbott|000 Aaron Landing...|    Aaronberg|       Alabama|     Afghanistan| Abbott Group|Academic librarian|            Unknown|       (200)201-4254|                   0|GB02AAAU191993009...|          AED|              0.0|       A|Unknown|       No|A American and to...| Female|      Divorced|\n",
      "|    max|            1000.0|      Withdrawal|    Zoe Young|             Unknown|  Zunigaville|       Wyoming|        Zimbabwe|Zuniga-Wilson|      Youth worker|zzuniga@example.org|             Unknown| 4999984361512569455|             Unknown|          ZWD|           9999.0| Unknown|      Z|      Yes|Yourself young ev...|Unknown|       Unknown|\n",
      "+-------+------------------+----------------+-------------+--------------------+-------------+--------------+----------------+-------------+------------------+-------------------+--------------------+--------------------+--------------------+-------------+-----------------+--------+-------+---------+--------------------+-------+--------------+\n",
      "\n"
     ]
    },
    {
     "name": "stderr",
     "output_type": "stream",
     "text": [
      "                                                                                \r"
     ]
    }
   ],
   "source": [
    "# To view summary statistuics of the data\n",
    "nuga_bank_df_clean.describe().show()"
   ]
  },
  {
   "cell_type": "markdown",
   "metadata": {},
   "source": [
    "## Data Transformation with Pyspark (Data Modelling)"
   ]
  },
  {
   "cell_type": "code",
   "execution_count": 17,
   "metadata": {},
   "outputs": [
    {
     "data": {
      "text/plain": [
       "['Transaction_Date',\n",
       " 'Amount',\n",
       " 'Transaction_Type',\n",
       " 'Customer_Name',\n",
       " 'Customer_Address',\n",
       " 'Customer_City',\n",
       " 'Customer_State',\n",
       " 'Customer_Country',\n",
       " 'Company',\n",
       " 'Job_Title',\n",
       " 'Email',\n",
       " 'Phone_Number',\n",
       " 'Credit_Card_Number',\n",
       " 'IBAN',\n",
       " 'Currency_Code',\n",
       " 'Random_Number',\n",
       " 'Category',\n",
       " 'Group',\n",
       " 'Is_Active',\n",
       " 'Last_Updated',\n",
       " 'Description',\n",
       " 'Gender',\n",
       " 'Marital_Status']"
      ]
     },
     "execution_count": 17,
     "metadata": {},
     "output_type": "execute_result"
    }
   ],
   "source": [
    "nuga_bank_df_clean.columns"
   ]
  },
  {
   "cell_type": "markdown",
   "metadata": {},
   "source": [
    "#### At this point i am proceding to my draw.io to draw my architecture (basically modelling my data) so as to reduce  redundancy, you will find this in the repository , also note that i had ensure github version control at every point."
   ]
  },
  {
   "cell_type": "markdown",
   "metadata": {},
   "source": [
    "#### Creating tables"
   ]
  },
  {
   "cell_type": "code",
   "execution_count": 18,
   "metadata": {},
   "outputs": [],
   "source": [
    "# transactions table\n",
    "\n",
    "transaction = nuga_bank_df_clean.select('Transaction_Date', 'Amount', 'Transaction_Type').distinct()"
   ]
  },
  {
   "cell_type": "code",
   "execution_count": 19,
   "metadata": {},
   "outputs": [
    {
     "name": "stderr",
     "output_type": "stream",
     "text": [
      "[Stage 181:==============>                                          (1 + 3) / 4]\r"
     ]
    },
    {
     "name": "stdout",
     "output_type": "stream",
     "text": [
      "+--------------------+------+----------------+\n",
      "|    Transaction_Date|Amount|Transaction_Type|\n",
      "+--------------------+------+----------------+\n",
      "|2024-01-10 22:13:...|169.64|         Deposit|\n",
      "|2024-01-06 12:05:...|444.53|         Deposit|\n",
      "|2024-01-09 02:32:...|976.36|        Transfer|\n",
      "|2024-02-18 21:04:...|521.62|         Deposit|\n",
      "|2024-04-11 13:35:...|416.11|         Deposit|\n",
      "|2024-03-20 11:34:...|438.03|         Deposit|\n",
      "|2024-04-29 10:42:...| 28.27|        Transfer|\n",
      "|2024-02-12 15:48:...|657.39|         Deposit|\n",
      "|2024-01-16 03:08:...|489.04|      Withdrawal|\n",
      "|2024-04-27 01:11:...| 32.36|      Withdrawal|\n",
      "|2024-04-13 04:39:...| 152.8|         Deposit|\n",
      "|2024-02-07 20:31:...|736.03|      Withdrawal|\n",
      "|2024-03-09 11:50:...|516.88|        Transfer|\n",
      "|2024-01-22 16:12:...|615.23|         Deposit|\n",
      "|2024-02-18 19:51:...|119.83|        Transfer|\n",
      "|2024-04-15 10:58:...|630.29|         Deposit|\n",
      "|2024-02-22 06:42:...|923.79|         Deposit|\n",
      "|2024-04-22 06:27:...|832.71|      Withdrawal|\n",
      "|2024-02-14 10:28:...| 73.65|        Transfer|\n",
      "|2024-01-20 09:52:...| 850.8|      Withdrawal|\n",
      "+--------------------+------+----------------+\n",
      "only showing top 20 rows\n",
      "\n"
     ]
    },
    {
     "name": "stderr",
     "output_type": "stream",
     "text": [
      "                                                                                \r"
     ]
    }
   ],
   "source": [
    "transaction.show()"
   ]
  },
  {
   "cell_type": "code",
   "execution_count": 20,
   "metadata": {},
   "outputs": [],
   "source": [
    "# Adding transaction_id column\n",
    "# would be addding the transaction_id column using the monotoniqlly function which was imported from pyspark\n",
    "\n",
    "transaction = transaction.withColumn('transaction_id', monotonically_increasing_id())\n"
   ]
  },
  {
   "cell_type": "code",
   "execution_count": 21,
   "metadata": {},
   "outputs": [
    {
     "name": "stderr",
     "output_type": "stream",
     "text": [
      "[Stage 186:>                                                        (0 + 1) / 1]\r"
     ]
    },
    {
     "name": "stdout",
     "output_type": "stream",
     "text": [
      "+--------------------+------+----------------+--------------+\n",
      "|    Transaction_Date|Amount|Transaction_Type|transaction_id|\n",
      "+--------------------+------+----------------+--------------+\n",
      "|2024-01-10 22:13:...|169.64|         Deposit|             0|\n",
      "|2024-01-06 12:05:...|444.53|         Deposit|             1|\n",
      "|2024-01-09 02:32:...|976.36|        Transfer|             2|\n",
      "|2024-02-18 21:04:...|521.62|         Deposit|             3|\n",
      "|2024-04-11 13:35:...|416.11|         Deposit|             4|\n",
      "|2024-03-20 11:34:...|438.03|         Deposit|             5|\n",
      "|2024-04-29 10:42:...| 28.27|        Transfer|             6|\n",
      "|2024-02-12 15:48:...|657.39|         Deposit|             7|\n",
      "|2024-01-16 03:08:...|489.04|      Withdrawal|             8|\n",
      "|2024-04-27 01:11:...| 32.36|      Withdrawal|             9|\n",
      "|2024-04-13 04:39:...| 152.8|         Deposit|            10|\n",
      "|2024-02-07 20:31:...|736.03|      Withdrawal|            11|\n",
      "|2024-03-09 11:50:...|516.88|        Transfer|            12|\n",
      "|2024-01-22 16:12:...|615.23|         Deposit|            13|\n",
      "|2024-02-18 19:51:...|119.83|        Transfer|            14|\n",
      "|2024-04-15 10:58:...|630.29|         Deposit|            15|\n",
      "|2024-02-22 06:42:...|923.79|         Deposit|            16|\n",
      "|2024-04-22 06:27:...|832.71|      Withdrawal|            17|\n",
      "|2024-02-14 10:28:...| 73.65|        Transfer|            18|\n",
      "|2024-01-20 09:52:...| 850.8|      Withdrawal|            19|\n",
      "+--------------------+------+----------------+--------------+\n",
      "only showing top 20 rows\n",
      "\n"
     ]
    },
    {
     "name": "stderr",
     "output_type": "stream",
     "text": [
      "                                                                                \r"
     ]
    }
   ],
   "source": [
    "transaction.show()"
   ]
  },
  {
   "cell_type": "code",
   "execution_count": 22,
   "metadata": {},
   "outputs": [
    {
     "name": "stderr",
     "output_type": "stream",
     "text": [
      "[Stage 187:============================>                            (2 + 2) / 4]\r"
     ]
    },
    {
     "name": "stdout",
     "output_type": "stream",
     "text": [
      "+--------------+--------------------+------+----------------+\n",
      "|transaction_id|    Transaction_Date|Amount|Transaction_Type|\n",
      "+--------------+--------------------+------+----------------+\n",
      "|             0|2024-01-10 22:13:...|169.64|         Deposit|\n",
      "|             1|2024-01-06 12:05:...|444.53|         Deposit|\n",
      "|             2|2024-01-09 02:32:...|976.36|        Transfer|\n",
      "|             3|2024-02-18 21:04:...|521.62|         Deposit|\n",
      "|             4|2024-04-11 13:35:...|416.11|         Deposit|\n",
      "|             5|2024-03-20 11:34:...|438.03|         Deposit|\n",
      "|             6|2024-04-29 10:42:...| 28.27|        Transfer|\n",
      "|             7|2024-02-12 15:48:...|657.39|         Deposit|\n",
      "|             8|2024-01-16 03:08:...|489.04|      Withdrawal|\n",
      "|             9|2024-04-27 01:11:...| 32.36|      Withdrawal|\n",
      "|            10|2024-04-13 04:39:...| 152.8|         Deposit|\n",
      "|            11|2024-02-07 20:31:...|736.03|      Withdrawal|\n",
      "|            12|2024-03-09 11:50:...|516.88|        Transfer|\n",
      "|            13|2024-01-22 16:12:...|615.23|         Deposit|\n",
      "|            14|2024-02-18 19:51:...|119.83|        Transfer|\n",
      "|            15|2024-04-15 10:58:...|630.29|         Deposit|\n",
      "|            16|2024-02-22 06:42:...|923.79|         Deposit|\n",
      "|            17|2024-04-22 06:27:...|832.71|      Withdrawal|\n",
      "|            18|2024-02-14 10:28:...| 73.65|        Transfer|\n",
      "|            19|2024-01-20 09:52:...| 850.8|      Withdrawal|\n",
      "+--------------+--------------------+------+----------------+\n",
      "only showing top 20 rows\n",
      "\n"
     ]
    },
    {
     "name": "stderr",
     "output_type": "stream",
     "text": [
      "                                                                                \r"
     ]
    }
   ],
   "source": [
    "# Reordering the dataframe columns to make transaction_id come first\n",
    "\n",
    "transaction = transaction.select('transaction_id', 'Transaction_Date', 'Amount', 'Transaction_Type')\n",
    "\n",
    "transaction.show()"
   ]
  },
  {
   "cell_type": "code",
   "execution_count": 23,
   "metadata": {},
   "outputs": [
    {
     "name": "stderr",
     "output_type": "stream",
     "text": [
      "[Stage 192:>                                                        (0 + 1) / 1]\r"
     ]
    },
    {
     "name": "stdout",
     "output_type": "stream",
     "text": [
      "+-----------+------------------+--------------------+--------------------+--------------+--------------------+--------------------+--------------------+\n",
      "|customer_id|     Customer_Name|    Customer_Address|       Customer_City|Customer_State|    Customer_Country|               Email|        Phone_Number|\n",
      "+-----------+------------------+--------------------+--------------------+--------------+--------------------+--------------------+--------------------+\n",
      "|          0|    Miguel Leonard|262 Beck Expressw...|             Unknown| West Virginia|             Eritrea| zweaver@example.net|             Unknown|\n",
      "|          1|           Unknown|             Unknown|         Evanchester|        Oregon|             Uruguay|             Unknown| (384)778-9942x91236|\n",
      "|          2|    Michael Murphy|894 Williams Ridg...|       Dominguezview|      New York|              Sweden|kristinstanley@ex...|+1-693-739-2204x8851|\n",
      "|          3|    Tina Gutierrez|    415 Taylor Knoll|           Donnastad|South Carolina|             Unknown|sarabrooks@exampl...|  623-933-0431x87174|\n",
      "|          4|      Kylie Adkins|    435 Nicole Curve|             Unknown|     Louisiana|             Unknown|davisronald@examp...|  (404)814-4457x1451|\n",
      "|          5|           Unknown|   36415 Chavez Oval|      Alejandroville|     Louisiana|                Peru|solomonheather@ex...|    894.974.9717x529|\n",
      "|          6|       Brian Glenn|505 Mcdowell Gard...|South Christinech...|  South Dakota|             Lesotho|bcabrera@example.net|001-962-928-1897x...|\n",
      "|          7|       Gary Archer| 0930 Michael Stream|            Boydport|North Carolina|Palestinian Terri...|kennethscott@exam...|       (713)965-2955|\n",
      "|          8|       Chase Smith|   156 Jeffrey Union|   Lake Nataliemouth|       Arizona|     North Macedonia|davidreeves@examp...|             Unknown|\n",
      "|          9|Mr. Gary Brooks II|   786 Mccarthy Fall|         Traceymouth|         Idaho|            Kiribati|ellislouis@exampl...|          8963308214|\n",
      "|         10|        Zoe Wilson|4575 Michael Harb...|        Alexanderton|        Alaska|           Venezuela|             Unknown|             Unknown|\n",
      "|         11|           Unknown|     0281 Diaz Locks|        Freemanburgh|        Oregon|Bouvet Island (Bo...|ygonzalez@example...|001-877-339-2451x...|\n",
      "|         12|           Unknown|4339 Hall Street ...|           Dianatown|       Unknown|             Moldova|robinsonbrian@exa...|             Unknown|\n",
      "|         13|    Zachary Grimes|42686 Jessica Loc...|           Johnshire|      Virginia|             Tunisia|vanessa93@example...|       (464)800-5827|\n",
      "|         14| Jessica Zimmerman|    15565 Reed Wells|       East Johnland|       Florida|                Chad|awilliams@example...|  664.840.4619x25293|\n",
      "|         15|     Tammy Simmons|997 Flores Locks ...|            Woodston|      Nebraska|                Oman| udecker@example.com|+1-853-249-6586x8571|\n",
      "|         16| Virginia Galloway|236 Harris Trail ...|       Lake Benjamin|      Michigan|United States of ...|   mross@example.com|   987.344.8192x3020|\n",
      "|         17|   Elizabeth Kline|  8389 Nicholson Run|           Jeffmouth|    Washington|             Liberia|matthewtaylor@exa...|    794-659-1946x128|\n",
      "|         18|     Matthew Costa|100 Crystal Gatew...|     Lake Leslieland|     Louisiana|         Timor-Leste|             Unknown|       (898)827-1111|\n",
      "|         19| Stephanie Simpson|             Unknown|          Murrayland|         Idaho|Northern Mariana ...|jacobgoodman@exam...|    592-707-2311x542|\n",
      "+-----------+------------------+--------------------+--------------------+--------------+--------------------+--------------------+--------------------+\n",
      "only showing top 20 rows\n",
      "\n"
     ]
    },
    {
     "name": "stderr",
     "output_type": "stream",
     "text": [
      "                                                                                \r"
     ]
    }
   ],
   "source": [
    "# creating customer table\n",
    "customer = nuga_bank_df_clean.select('Customer_Name',\n",
    " 'Customer_Address',\n",
    " 'Customer_City',\n",
    " 'Customer_State',\n",
    " 'Customer_Country', 'Email',\n",
    " 'Phone_Number').distinct()\n",
    "\n",
    "# add customer_id column\n",
    "\n",
    "customer = customer.withColumn('customer_id', monotonically_increasing_id())\n",
    "\n",
    "# reordering the dataframe \n",
    "customer = customer.select('customer_id', 'Customer_Name', 'Customer_Address', 'Customer_City', 'Customer_State', 'Customer_Country', 'Email', 'Phone_Number')\n",
    "\n",
    "customer.show()"
   ]
  },
  {
   "cell_type": "code",
   "execution_count": 24,
   "metadata": {},
   "outputs": [
    {
     "name": "stderr",
     "output_type": "stream",
     "text": [
      "[Stage 195:>                                                        (0 + 1) / 1]\r"
     ]
    },
    {
     "name": "stdout",
     "output_type": "stream",
     "text": [
      "+-----------+--------------------+--------------------+-------+--------------+\n",
      "|employee_id|             Company|           Job_Title| Gender|Marital_Status|\n",
      "+-----------+--------------------+--------------------+-------+--------------+\n",
      "|          0|         Price Group|             Unknown|   Male|        Single|\n",
      "|          1|Rhodes, King and ...| Trade mark attorney|   Male|       Unknown|\n",
      "|          2|Schmidt, Morgan a...|     Engineer, water| Female|        Single|\n",
      "|          3|       Johnson Group|  Forensic scientist|   Male|       Unknown|\n",
      "|          4|     Phillips-Prince|Production assist...|Unknown|        Single|\n",
      "|          5|      Henry and Sons|Engineer, civil (...| Female|       Married|\n",
      "|          6|Thompson, Johnson...|Exercise physiolo...|  Other|       Unknown|\n",
      "|          7|Hernandez, Johnso...|Forensic psycholo...|Unknown|      Divorced|\n",
      "|          8|Carrillo, Schwart...| Solicitor, Scotland| Female|        Single|\n",
      "|          9|         Olson-Lucas| Magazine journalist|   Male|      Divorced|\n",
      "|         10|        Baxter-Knapp|Designer, televis...| Female|       Unknown|\n",
      "|         11|             Unknown|Programme researc...| Female|      Divorced|\n",
      "|         12|    Newton-Schneider|             Unknown|  Other|      Divorced|\n",
      "|         13|      Suarez-Terrell|            Best boy| Female|      Divorced|\n",
      "|         14|         Stewart LLC|       Archaeologist|   Male|        Single|\n",
      "|         15|Bernard, Sutton a...|Museum/gallery co...|  Other|       Unknown|\n",
      "|         16|Summers, Thornton...|Volunteer coordin...|Unknown|        Single|\n",
      "|         17|     Mcneil-Guerrero|     Ophthalmologist|Unknown|      Divorced|\n",
      "|         18|       Collins-Clark|Producer, televis...| Female|      Divorced|\n",
      "|         19|Lewis, Navarro an...|             Unknown|   Male|        Single|\n",
      "+-----------+--------------------+--------------------+-------+--------------+\n",
      "only showing top 20 rows\n",
      "\n"
     ]
    },
    {
     "name": "stderr",
     "output_type": "stream",
     "text": [
      "                                                                                \r"
     ]
    }
   ],
   "source": [
    "# Creating the Employee table\n",
    "\n",
    "employee = nuga_bank_df_clean.select('Company', 'Job_Title', 'Gender', 'Marital_Status').distinct()\n",
    "\n",
    "# add employee_id column\n",
    "\n",
    "employee = employee.withColumn('employee_id', monotonically_increasing_id())\n",
    "\n",
    "# re-ordering the dataframe\n",
    "employee = employee.select('employee_id', 'Company', 'Job_Title', 'Gender', 'Marital_Status')\n",
    "\n",
    "employee.show()"
   ]
  },
  {
   "cell_type": "code",
   "execution_count": 26,
   "metadata": {},
   "outputs": [],
   "source": [
    "# Creating Fact_Table\n",
    "\n",
    "# Note that we always do a left join for fact tables\n",
    "fact_table = nuga_bank_df_clean.join(customer, ['Customer_Name', 'Customer_Address', 'Customer_City', 'Customer_State', \\\n",
    "                                                'Customer_Country', 'Email', 'Phone_Number'], 'left') \\\n",
    "                                .join(transaction, ['Transaction_Date', 'Amount', 'Transaction_Type'], 'left') \\\n",
    "                                .join(employee, ['Company', 'Job_Title', 'Gender', 'Marital_Status'], 'left') \\\n",
    "                                .select('transaction_id', 'customer_id', 'employee_id',  'Credit_Card_Number', 'IBAN', 'Currency_Code', 'Random_Number', \\\n",
    "                                        'Category', 'Group', 'Is_Active', 'Last_Updated', 'Description')  # slicing out only the parameters I require\n",
    "\n"
   ]
  },
  {
   "cell_type": "code",
   "execution_count": 27,
   "metadata": {},
   "outputs": [
    {
     "name": "stderr",
     "output_type": "stream",
     "text": [
      "                                                                                \r"
     ]
    },
    {
     "name": "stdout",
     "output_type": "stream",
     "text": [
      "+--------------+-----------+-----------+------------------+--------------------+-------------+-------------+--------+-----+---------+--------------------+--------------------+\n",
      "|transaction_id|customer_id|employee_id|Credit_Card_Number|                IBAN|Currency_Code|Random_Number|Category|Group|Is_Active|        Last_Updated|         Description|\n",
      "+--------------+-----------+-----------+------------------+--------------------+-------------+-------------+--------+-----+---------+--------------------+--------------------+\n",
      "|    8590099702| 8590097714|     143861|   180067592769732|GB92JVMY004197871...|          EGP|       7198.0|       A|    Z|      Yes|2023-10-12 22:25:...|Before story prof...|\n",
      "|    8589960460|25769812854|      41531|   213112163828334|GB50TJFN039979307...|          SVC|       7382.0|       B|    Z|      Yes|2020-01-19 18:19:...|Great evening so ...|\n",
      "|    8590111836|25769976749|     196153|                 0|GB32LGFL895760023...|          PAB|       8898.0|       A|    Y|      Yes|2021-12-07 15:35:...|Face field coach ...|\n",
      "|   25769942107| 8590087440|     140803|  4239162655922295|GB96MEEY268453596...|          BTN|       5605.0|       D|    Z|       No|2020-03-22 00:53:...|Visit present reg...|\n",
      "|        101083|25769892882|      68503|     4021800082481|GB78UBAH195883770...|          LBP|       8097.0|       C|    X|      Yes|2023-07-11 06:06:...|Maybe teacher dee...|\n",
      "|   17179967483|     105048|      58286|   213133896337542|GB07IUUE487965913...|          ISK|          0.0|       D|    Y|       No|2023-08-16 10:32:...|Themselves make ago.|\n",
      "|    8589951708|25769846033|       1054|   213186454811670|GB77SPMZ984195063...|          SOS|       7610.0|       C|    X|       No|2021-04-15 13:30:...|Concern remember ...|\n",
      "|   25769911138|17179956876|      59273|  6011177559558424|GB76DNER497098023...|          BZD|       6499.0|       D|    X|  Unknown|2020-02-09 13:11:...|Risk take recent ...|\n",
      "|   25770023433| 8590158288|     174307|  6574717409681808|GB58ZWIH992989778...|          LSL|          0.0|       B|    Y|       No|2021-11-04 10:41:...|Any state recogni...|\n",
      "|   17179994824|     160577|     132736|    38737697224239|GB44WJZF814413539...|          JMD|       8569.0|       C|    Z|  Unknown|2021-01-25 12:59:...|             Unknown|\n",
      "|         47144|25769811748|      29068|   180039947294310|GB48WNWB013807482...|          HRK|       3061.0|       B|    X|       No|2020-08-31 20:40:...|Notice paper son ...|\n",
      "|   17179869185|25769849363|      38274|  4304956118653227|GB15VYWJ018711823...|          NIO|       2502.0|       B|    Y|      Yes|2021-04-12 20:23:...|Rest theory serve...|\n",
      "|         79382|     105049|      77576|   213123497507940|GB61RQDC156293863...|          GBP|          0.0|       B|    Z|      Yes|2023-01-29 06:25:...|    Plant very name.|\n",
      "|        198430|17180064840|     181965|    30472377458372|GB78IXJB107495171...|          MDL|       6463.0|       A|    Z|       No|2020-09-25 02:11:...|Country stage sam...|\n",
      "|        155500| 8590055338|     111370|      639006216746|GB81CQQR004909975...|      Unknown|       8199.0|       B|    Y|       No|2024-03-31 18:51:...|Try step sound. B...|\n",
      "|   25769948929| 8590094297|     116364|     4559268055614|             Unknown|          BBD|       5380.0|       D|    Y|       No|2024-04-16 14:15:...|Central improve q...|\n",
      "|    8590131181|     202061|      53257|  6011153251503935|GB28FTRX421798999...|          CHF|       1792.0|       C|    Z|      Yes|2020-07-14 19:25:...|Compare sell bank...|\n",
      "|         68917|25769813966|      38273|     4500718397537|GB78FDAJ595830659...|          RON|       2445.0|       B|    X|       No|2022-11-19 08:59:...|             Unknown|\n",
      "|   17180053122|25770001535|      45126|   213172070656285|GB15ZCRW202730226...|          IRR|       3594.0|       D|    X|      Yes|2023-07-14 17:34:...|Reach minute with...|\n",
      "|   25769839135|      31789| 8589985479|  3564854271916761|GB58VVHN678787830...|          AED|       2546.0|       B|    Y|      Yes|2021-09-14 07:15:...|Letter hand soldi...|\n",
      "+--------------+-----------+-----------+------------------+--------------------+-------------+-------------+--------+-----+---------+--------------------+--------------------+\n",
      "only showing top 20 rows\n",
      "\n"
     ]
    }
   ],
   "source": [
    "fact_table.show()"
   ]
  },
  {
   "cell_type": "markdown",
   "metadata": {},
   "source": [
    "### Outputting the transformed file to parquet"
   ]
  },
  {
   "cell_type": "code",
   "execution_count": 28,
   "metadata": {},
   "outputs": [
    {
     "name": "stderr",
     "output_type": "stream",
     "text": [
      "                                                                                \r"
     ]
    }
   ],
   "source": [
    "\n",
    "transaction.write.mode('overwrite').parquet(r'dataset/transaction')\n"
   ]
  },
  {
   "cell_type": "code",
   "execution_count": 29,
   "metadata": {},
   "outputs": [
    {
     "name": "stderr",
     "output_type": "stream",
     "text": [
      "                                                                                \r"
     ]
    }
   ],
   "source": [
    "customer.write.mode('overwrite').parquet(r'Dataset/customer')"
   ]
  },
  {
   "cell_type": "code",
   "execution_count": 30,
   "metadata": {},
   "outputs": [
    {
     "name": "stderr",
     "output_type": "stream",
     "text": [
      "                                                                                \r"
     ]
    }
   ],
   "source": [
    "employee.write.mode('overwrite').parquet(r'dataset/employee')"
   ]
  },
  {
   "cell_type": "code",
   "execution_count": 31,
   "metadata": {},
   "outputs": [
    {
     "name": "stderr",
     "output_type": "stream",
     "text": [
      "24/07/18 18:17:33 WARN RowBasedKeyValueBatch: Calling spill() on RowBasedKeyValueBatch. Will not spill but return 0.\n",
      "24/07/18 18:17:33 WARN RowBasedKeyValueBatch: Calling spill() on RowBasedKeyValueBatch. Will not spill but return 0.\n",
      "24/07/18 18:17:34 WARN RowBasedKeyValueBatch: Calling spill() on RowBasedKeyValueBatch. Will not spill but return 0.\n",
      "24/07/18 18:17:34 WARN RowBasedKeyValueBatch: Calling spill() on RowBasedKeyValueBatch. Will not spill but return 0.\n",
      "24/07/18 18:17:42 WARN RowBasedKeyValueBatch: Calling spill() on RowBasedKeyValueBatch. Will not spill but return 0.\n",
      "24/07/18 18:17:42 WARN RowBasedKeyValueBatch: Calling spill() on RowBasedKeyValueBatch. Will not spill but return 0.\n",
      "24/07/18 18:17:54 WARN RowBasedKeyValueBatch: Calling spill() on RowBasedKeyValueBatch. Will not spill but return 0.\n",
      "24/07/18 18:17:54 WARN RowBasedKeyValueBatch: Calling spill() on RowBasedKeyValueBatch. Will not spill but return 0.\n",
      "24/07/18 18:17:54 WARN RowBasedKeyValueBatch: Calling spill() on RowBasedKeyValueBatch. Will not spill but return 0.\n",
      "24/07/18 18:17:54 WARN RowBasedKeyValueBatch: Calling spill() on RowBasedKeyValueBatch. Will not spill but return 0.\n",
      "                                                                                \r"
     ]
    }
   ],
   "source": [
    "fact_table.write.mode('overwrite').parquet(r'dataset/fact_table')"
   ]
  },
  {
   "cell_type": "markdown",
   "metadata": {},
   "source": [
    "### output the ransformed data as csv"
   ]
  },
  {
   "cell_type": "code",
   "execution_count": 32,
   "metadata": {},
   "outputs": [
    {
     "name": "stderr",
     "output_type": "stream",
     "text": [
      "                                                                                \r"
     ]
    }
   ],
   "source": [
    "\n",
    "transaction.repartition(3).write.mode('overwrite').option('header', 'true').csv(r'dataset/transformeddata/csv/transaction')"
   ]
  },
  {
   "cell_type": "code",
   "execution_count": 33,
   "metadata": {},
   "outputs": [
    {
     "name": "stderr",
     "output_type": "stream",
     "text": [
      "                                                                                \r"
     ]
    }
   ],
   "source": [
    "customer.repartition(3).write.mode('overwrite').option('header', 'true').csv(r'dataset/transformeddata/csv/customer')\n"
   ]
  },
  {
   "cell_type": "code",
   "execution_count": 34,
   "metadata": {},
   "outputs": [
    {
     "name": "stderr",
     "output_type": "stream",
     "text": [
      "                                                                                \r"
     ]
    }
   ],
   "source": [
    "employee.repartition(3).write.mode('overwrite').option('header', 'true').csv(r'dataset/transformeddata/csv/employee')"
   ]
  },
  {
   "cell_type": "code",
   "execution_count": 35,
   "metadata": {},
   "outputs": [
    {
     "name": "stderr",
     "output_type": "stream",
     "text": [
      "24/07/18 18:25:12 WARN RowBasedKeyValueBatch: Calling spill() on RowBasedKeyValueBatch. Will not spill but return 0.\n",
      "24/07/18 18:25:13 WARN RowBasedKeyValueBatch: Calling spill() on RowBasedKeyValueBatch. Will not spill but return 0.\n",
      "24/07/18 18:25:13 WARN RowBasedKeyValueBatch: Calling spill() on RowBasedKeyValueBatch. Will not spill but return 0.\n",
      "24/07/18 18:25:13 WARN RowBasedKeyValueBatch: Calling spill() on RowBasedKeyValueBatch. Will not spill but return 0.\n",
      "24/07/18 18:25:19 WARN RowBasedKeyValueBatch: Calling spill() on RowBasedKeyValueBatch. Will not spill but return 0.\n",
      "24/07/18 18:25:28 WARN RowBasedKeyValueBatch: Calling spill() on RowBasedKeyValueBatch. Will not spill but return 0.\n",
      "24/07/18 18:25:28 WARN RowBasedKeyValueBatch: Calling spill() on RowBasedKeyValueBatch. Will not spill but return 0.\n",
      "24/07/18 18:25:28 WARN RowBasedKeyValueBatch: Calling spill() on RowBasedKeyValueBatch. Will not spill but return 0.\n",
      "24/07/18 18:25:28 WARN RowBasedKeyValueBatch: Calling spill() on RowBasedKeyValueBatch. Will not spill but return 0.\n",
      "                                                                                \r"
     ]
    }
   ],
   "source": [
    "\n",
    "fact_table.repartition(3).write.mode('overwrite').option('header', 'true').csv(r'dataset/transformeddata/csv/fact_table')"
   ]
  },
  {
   "cell_type": "markdown",
   "metadata": {},
   "source": [
    "## LOADING DATASET INTO Postgresql Database"
   ]
  },
  {
   "cell_type": "code",
   "execution_count": 36,
   "metadata": {},
   "outputs": [
    {
     "name": "stderr",
     "output_type": "stream",
     "text": [
      "24/07/18 18:31:42 WARN RowBasedKeyValueBatch: Calling spill() on RowBasedKeyValueBatch. Will not spill but return 0.\n",
      "24/07/18 18:31:43 WARN RowBasedKeyValueBatch: Calling spill() on RowBasedKeyValueBatch. Will not spill but return 0.\n",
      "24/07/18 18:31:43 WARN RowBasedKeyValueBatch: Calling spill() on RowBasedKeyValueBatch. Will not spill but return 0.\n",
      "24/07/18 18:31:44 WARN RowBasedKeyValueBatch: Calling spill() on RowBasedKeyValueBatch. Will not spill but return 0.\n",
      "24/07/18 18:31:50 WARN RowBasedKeyValueBatch: Calling spill() on RowBasedKeyValueBatch. Will not spill but return 0.\n",
      "24/07/18 18:31:51 WARN RowBasedKeyValueBatch: Calling spill() on RowBasedKeyValueBatch. Will not spill but return 0.\n",
      "24/07/18 18:32:02 WARN RowBasedKeyValueBatch: Calling spill() on RowBasedKeyValueBatch. Will not spill but return 0.\n",
      "24/07/18 18:32:02 WARN RowBasedKeyValueBatch: Calling spill() on RowBasedKeyValueBatch. Will not spill but return 0.\n",
      "24/07/18 18:32:02 WARN RowBasedKeyValueBatch: Calling spill() on RowBasedKeyValueBatch. Will not spill but return 0.\n",
      "24/07/18 18:32:02 WARN RowBasedKeyValueBatch: Calling spill() on RowBasedKeyValueBatch. Will not spill but return 0.\n",
      "                                                                                \r"
     ]
    }
   ],
   "source": [
    "# Firstly will convert spark dataframe to pandas dataframe\n",
    "transaction_pd_df = transaction.toPandas()\n",
    "customer_pd_df =customer.toPandas()\n",
    "employee_pd_df = employee.toPandas()\n",
    "fact_table_pd_df = fact_table.toPandas()"
   ]
  },
  {
   "cell_type": "code",
   "execution_count": null,
   "metadata": {},
   "outputs": [],
   "source": []
  }
 ],
 "metadata": {
  "kernelspec": {
   "display_name": "nugabankenv",
   "language": "python",
   "name": "python3"
  },
  "language_info": {
   "codemirror_mode": {
    "name": "ipython",
    "version": 3
   },
   "file_extension": ".py",
   "mimetype": "text/x-python",
   "name": "python",
   "nbconvert_exporter": "python",
   "pygments_lexer": "ipython3",
   "version": "3.9.19"
  }
 },
 "nbformat": 4,
 "nbformat_minor": 2
}
